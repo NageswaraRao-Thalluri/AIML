{
 "cells": [
  {
   "cell_type": "code",
   "execution_count": 5,
   "metadata": {},
   "outputs": [
    {
     "name": "stdout",
     "output_type": "stream",
     "text": [
      "postgres\n"
     ]
    }
   ],
   "source": [
    "import configparser\n",
    "# Initialize the config parser\n",
    "config = configparser.ConfigParser()\n",
    "config.read(\"credentials.cfg\")\n",
    "import os\n",
    "from dotenv import load_dotenv\n",
    "\n",
    "print(config['postgres']['DB_USER'])"
   ]
  },
  {
   "cell_type": "code",
   "execution_count": null,
   "metadata": {},
   "outputs": [
    {
     "name": "stdout",
     "output_type": "stream",
     "text": [
      "Error connecting to the database: connection to server at \"localhost\" (::1), port 5432 failed: server does not support SSL, but SSL was required\n",
      "\n"
     ]
    }
   ],
   "source": [
    "import psycopg2\n",
    "try:\n",
    "    \n",
    "    connection = psycopg2.connect(\n",
    "            dbname=config['postgres']['DB_NAME'],\n",
    "            user=config['postgres']['DB_USER'],\n",
    "            password=config['postgres']['DB_PASSWORD'],\n",
    "            host=config['postgres']['DB_HOST'],\n",
    "            port=config['postgres']['DB_PORT'],\n",
    "            sslmode= 'disable'\n",
    "        )\n",
    "    print(\"Database connection successful!\")\n",
    "    print(\"Database connection successful!\")\n",
    "except Exception as e:\n",
    "    print(\"Error connecting to the database:\", e)"
   ]
  }
 ],
 "metadata": {
  "kernelspec": {
   "display_name": "Python 3",
   "language": "python",
   "name": "python3"
  },
  "language_info": {
   "codemirror_mode": {
    "name": "ipython",
    "version": 3
   },
   "file_extension": ".py",
   "mimetype": "text/x-python",
   "name": "python",
   "nbconvert_exporter": "python",
   "pygments_lexer": "ipython3",
   "version": "3.12.8"
  }
 },
 "nbformat": 4,
 "nbformat_minor": 2
}
