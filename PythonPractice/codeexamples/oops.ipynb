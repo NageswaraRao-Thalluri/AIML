{
 "cells": [
  {
   "cell_type": "code",
   "execution_count": null,
   "metadata": {},
   "outputs": [
    {
     "name": "stdout",
     "output_type": "stream",
     "text": [
      "<__main__.A object at 0x0000021B36957290>\n",
      "30\n"
     ]
    }
   ],
   "source": [
    "class A:\n",
    "    def __init__(self):\n",
    "        print(self)\n",
    "    def add(self,a,b):# for instance method we must pass self in method parameters\n",
    "        print(a+b)\n",
    "x=A()\n",
    "x.add(10,20)"
   ]
  },
  {
   "cell_type": "code",
   "execution_count": null,
   "metadata": {},
   "outputs": [],
   "source": [
    "\n",
    "class Animal:\n",
    "    def __init__(self, name: str, age: int):\n",
    "        self.name = name\n",
    "        self.age = age\n",
    "    \n",
    "    def make_sound(self) -> str:\n",
    "        return \"Generic animal sound\"\n",
    "    \n",
    "    def info(self) -> str:\n",
    "        return f\"{self.name} is {self.age} years old\"\n",
    "\n",
    "class Dog(Animal):\n",
    "    def __init__(self, name: str, age: int, breed: str):\n",
    "        super().__init__(name, age)  \n",
    "        self.breed = breed\n",
    " \n",
    "    def fetch(self, item: str) -> str:\n",
    "        return f\"{self.name} fetched the {item}\"\n",
    "    \n",
    "my_dog = Dog(\"Buddy\", 3, \"Goldy\")"
   ]
  }
 ],
 "metadata": {
  "kernelspec": {
   "display_name": "Python 3",
   "language": "python",
   "name": "python3"
  },
  "language_info": {
   "codemirror_mode": {
    "name": "ipython",
    "version": 3
   },
   "file_extension": ".py",
   "mimetype": "text/x-python",
   "name": "python",
   "nbconvert_exporter": "python",
   "pygments_lexer": "ipython3",
   "version": "3.12.8"
  }
 },
 "nbformat": 4,
 "nbformat_minor": 2
}
